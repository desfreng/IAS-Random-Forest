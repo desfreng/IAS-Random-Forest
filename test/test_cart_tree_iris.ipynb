{
 "cells": [
  {
   "cell_type": "code",
   "execution_count": 1,
   "metadata": {
    "ExecuteTime": {
     "start_time": "2023-04-04T16:45:42.627504Z",
     "end_time": "2023-04-04T16:45:42.822700Z"
    }
   },
   "outputs": [],
   "source": [
    "from ias.Datasets import Iris\n",
    "from ias.DecisionTrees.CartDecisionTree import CartDecisionTree\n",
    "from ias.Metrics import accuracy_score, confusion_matrix, show_confusion_matrix"
   ]
  },
  {
   "cell_type": "code",
   "execution_count": 2,
   "metadata": {
    "ExecuteTime": {
     "start_time": "2023-04-04T16:45:42.822772Z",
     "end_time": "2023-04-04T16:45:42.825743Z"
    }
   },
   "outputs": [],
   "source": [
    "import numpy as np"
   ]
  },
  {
   "cell_type": "code",
   "execution_count": 3,
   "metadata": {
    "ExecuteTime": {
     "start_time": "2023-04-04T16:45:42.825486Z",
     "end_time": "2023-04-04T16:45:42.849232Z"
    }
   },
   "outputs": [],
   "source": [
    "indices = np.arange(len(Iris.attributes))\n",
    "np.random.shuffle(indices)\n",
    "train_size = int(len(Iris.attributes)*2/3)\n",
    "\n",
    "train_i = indices[:train_size]\n",
    "train_x = Iris.attributes[train_i]\n",
    "train_y = Iris.labels[train_i]\n",
    "\n",
    "test_i = indices[train_size:]\n",
    "test_x = Iris.attributes[test_i]\n",
    "test_y = Iris.labels[test_i]"
   ]
  },
  {
   "cell_type": "code",
   "execution_count": 6,
   "metadata": {
    "ExecuteTime": {
     "start_time": "2023-04-04T16:09:13.361428Z",
     "end_time": "2023-04-04T16:09:13.516052Z"
    }
   },
   "outputs": [
    {
     "name": "stdout",
     "output_type": "stream",
     "text": [
      "[[5.8 2.7 5.1 1.9]\n",
      " [5.4 3.  4.5 1.5]\n",
      " [5.5 2.6 4.4 1.2]\n",
      " [6.2 2.2 4.5 1.5]\n",
      " [6.4 3.2 5.3 2.3]\n",
      " [6.8 3.2 5.9 2.3]\n",
      " [5.1 3.8 1.6 0.2]\n",
      " [6.8 2.8 4.8 1.4]\n",
      " [5.  3.2 1.2 0.2]\n",
      " [6.4 3.2 4.5 1.5]\n",
      " [5.2 2.7 3.9 1.4]\n",
      " [4.6 3.2 1.4 0.2]\n",
      " [6.  2.9 4.5 1.5]\n",
      " [5.7 2.5 5.  2. ]\n",
      " [5.4 3.7 1.5 0.2]\n",
      " [7.7 3.  6.1 2.3]\n",
      " [5.7 3.8 1.7 0.3]\n",
      " [4.8 3.  1.4 0.1]\n",
      " [6.7 2.5 5.8 1.8]\n",
      " [6.3 2.8 5.1 1.5]\n",
      " [6.3 3.4 5.6 2.4]\n",
      " [5.4 3.4 1.7 0.2]\n",
      " [5.  3.  1.6 0.2]\n",
      " [6.9 3.2 5.7 2.3]\n",
      " [5.5 2.4 3.7 1. ]\n",
      " [6.1 3.  4.9 1.8]\n",
      " [5.8 2.7 5.1 1.9]\n",
      " [5.4 3.9 1.3 0.4]\n",
      " [6.4 2.7 5.3 1.9]\n",
      " [6.9 3.1 5.1 2.3]\n",
      " [7.9 3.8 6.4 2. ]\n",
      " [5.9 3.  4.2 1.5]\n",
      " [6.2 2.9 4.3 1.3]\n",
      " [5.  3.6 1.4 0.2]\n",
      " [6.  2.2 4.  1. ]\n",
      " [5.6 2.9 3.6 1.3]\n",
      " [5.5 2.4 3.8 1.1]\n",
      " [5.7 2.9 4.2 1.3]\n",
      " [5.7 4.4 1.5 0.4]\n",
      " [6.3 2.5 5.  1.9]\n",
      " [7.7 2.6 6.9 2.3]\n",
      " [5.4 3.4 1.5 0.4]\n",
      " [5.2 3.5 1.5 0.2]\n",
      " [6.7 3.1 4.4 1.4]\n",
      " [5.1 3.8 1.5 0.3]\n",
      " [5.3 3.7 1.5 0.2]\n",
      " [6.  2.7 5.1 1.6]\n",
      " [4.9 3.1 1.5 0.1]\n",
      " [4.9 2.5 4.5 1.7]\n",
      " [6.5 3.  5.8 2.2]\n",
      " [5.8 2.7 4.1 1. ]\n",
      " [6.6 2.9 4.6 1.3]\n",
      " [6.3 2.5 4.9 1.5]\n",
      " [6.1 2.9 4.7 1.4]\n",
      " [5.8 4.  1.2 0.2]\n",
      " [5.2 3.4 1.4 0.2]\n",
      " [5.  3.4 1.5 0.2]\n",
      " [5.  3.5 1.6 0.6]\n",
      " [5.1 3.5 1.4 0.3]\n",
      " [4.9 3.1 1.5 0.1]\n",
      " [5.6 2.5 3.9 1.1]\n",
      " [6.7 3.1 5.6 2.4]\n",
      " [6.1 3.  4.6 1.4]\n",
      " [5.5 2.3 4.  1.3]\n",
      " [5.4 3.9 1.7 0.4]\n",
      " [7.1 3.  5.9 2.1]\n",
      " [6.3 2.7 4.9 1.8]\n",
      " [6.4 2.8 5.6 2.2]\n",
      " [5.7 2.8 4.5 1.3]\n",
      " [6.7 3.  5.2 2.3]\n",
      " [5.1 3.3 1.7 0.5]\n",
      " [5.6 2.7 4.2 1.3]\n",
      " [5.  3.5 1.3 0.3]\n",
      " [5.7 2.6 3.5 1. ]\n",
      " [6.1 2.8 4.7 1.2]\n",
      " [6.3 3.3 6.  2.5]\n",
      " [5.1 3.8 1.9 0.4]\n",
      " [7.  3.2 4.7 1.4]\n",
      " [5.  2.3 3.3 1. ]\n",
      " [4.4 2.9 1.4 0.2]\n",
      " [4.9 2.4 3.3 1. ]\n",
      " [5.5 4.2 1.4 0.2]\n",
      " [4.7 3.2 1.6 0.2]\n",
      " [7.7 3.8 6.7 2.2]\n",
      " [4.5 2.3 1.3 0.3]\n",
      " [6.9 3.1 4.9 1.5]\n",
      " [5.8 2.7 3.9 1.2]\n",
      " [5.5 3.5 1.3 0.2]\n",
      " [5.  3.4 1.6 0.4]\n",
      " [7.3 2.9 6.3 1.8]\n",
      " [4.4 3.2 1.3 0.2]\n",
      " [5.  2.  3.5 1. ]\n",
      " [7.2 3.6 6.1 2.5]\n",
      " [4.6 3.4 1.4 0.3]\n",
      " [5.6 2.8 4.9 2. ]\n",
      " [5.5 2.5 4.  1.3]\n",
      " [5.6 3.  4.5 1.5]\n",
      " [6.9 3.1 5.4 2.1]\n",
      " [6.7 3.  5.  1.7]\n",
      " [4.8 3.1 1.6 0.2]]\n"
     ]
    },
    {
     "ename": "FileExistsError",
     "evalue": "",
     "output_type": "error",
     "traceback": [
      "\u001B[0;31m---------------------------------------------------------------------------\u001B[0m",
      "\u001B[0;31mFileExistsError\u001B[0m                           Traceback (most recent call last)",
      "Cell \u001B[0;32mIn[6], line 2\u001B[0m\n\u001B[1;32m      1\u001B[0m t \u001B[38;5;241m=\u001B[39m CartDecisionTree(subset_size\u001B[38;5;241m=\u001B[39m\u001B[38;5;241m4\u001B[39m)\n\u001B[0;32m----> 2\u001B[0m \u001B[43mt\u001B[49m\u001B[38;5;241;43m.\u001B[39;49m\u001B[43mfit\u001B[49m\u001B[43m(\u001B[49m\u001B[43mtrain_x\u001B[49m\u001B[43m,\u001B[49m\u001B[43m \u001B[49m\u001B[43mtrain_y\u001B[49m\u001B[43m)\u001B[49m\n\u001B[1;32m      3\u001B[0m t\u001B[38;5;241m.\u001B[39mshow(Iris\u001B[38;5;241m.\u001B[39mfeatures_names, Iris\u001B[38;5;241m.\u001B[39mclass_names)\n",
      "File \u001B[0;32m~/Desktop/IAS-Random-Forest/ias/AbstractDecisionTree.py:99\u001B[0m, in \u001B[0;36mAbstractDecisionTree.fit\u001B[0;34m(self, data_set, label_set)\u001B[0m\n\u001B[1;32m     95\u001B[0m \u001B[38;5;28mself\u001B[39m\u001B[38;5;241m.\u001B[39m_class_number \u001B[38;5;241m=\u001B[39m \u001B[38;5;28mint\u001B[39m(np\u001B[38;5;241m.\u001B[39mmax(label_set)) \u001B[38;5;241m+\u001B[39m \u001B[38;5;241m1\u001B[39m\n\u001B[1;32m     97\u001B[0m \u001B[38;5;28;01massert\u001B[39;00m \u001B[38;5;28mself\u001B[39m\u001B[38;5;241m.\u001B[39m_max_depth \u001B[38;5;241m>\u001B[39m \u001B[38;5;241m0\u001B[39m\n\u001B[0;32m---> 99\u001B[0m \u001B[38;5;28;43mself\u001B[39;49m\u001B[38;5;241;43m.\u001B[39;49m\u001B[43m_fit_bis\u001B[49m\u001B[43m(\u001B[49m\u001B[43mdata_set\u001B[49m\u001B[43m,\u001B[49m\u001B[43m \u001B[49m\u001B[43mlabel_set\u001B[49m\u001B[43m,\u001B[49m\u001B[43m \u001B[49m\u001B[38;5;28;43mself\u001B[39;49m\u001B[38;5;241;43m.\u001B[39;49m\u001B[43m_new_node_id\u001B[49m\u001B[43m(\u001B[49m\u001B[43m)\u001B[49m\u001B[43m,\u001B[49m\u001B[43m \u001B[49m\u001B[38;5;28;43mself\u001B[39;49m\u001B[38;5;241;43m.\u001B[39;49m\u001B[43m_max_depth\u001B[49m\u001B[43m)\u001B[49m\n\u001B[1;32m    100\u001B[0m \u001B[38;5;28mself\u001B[39m\u001B[38;5;241m.\u001B[39m_fitted \u001B[38;5;241m=\u001B[39m \u001B[38;5;28;01mTrue\u001B[39;00m\n",
      "File \u001B[0;32m~/Desktop/IAS-Random-Forest/ias/AbstractDecisionTree.py:72\u001B[0m, in \u001B[0;36mAbstractDecisionTree._fit_bis\u001B[0;34m(self, data_set, label_set, current_node_id, remaining_depth)\u001B[0m\n\u001B[1;32m     65\u001B[0m     \u001B[38;5;28mself\u001B[39m\u001B[38;5;241m.\u001B[39m_nodes[current_node_id] \u001B[38;5;241m=\u001B[39m {\n\u001B[1;32m     66\u001B[0m         \u001B[38;5;124m\"\u001B[39m\u001B[38;5;124mis_node\u001B[39m\u001B[38;5;124m\"\u001B[39m: \u001B[38;5;28;01mFalse\u001B[39;00m,\n\u001B[1;32m     67\u001B[0m         \u001B[38;5;124m\"\u001B[39m\u001B[38;5;124mprobability_vector\u001B[39m\u001B[38;5;124m\"\u001B[39m: probability_vector,\n\u001B[1;32m     68\u001B[0m         \u001B[38;5;124m\"\u001B[39m\u001B[38;5;124msamples\u001B[39m\u001B[38;5;124m\"\u001B[39m: \u001B[38;5;28mlen\u001B[39m(label_set),\n\u001B[1;32m     69\u001B[0m         \u001B[38;5;124m\"\u001B[39m\u001B[38;5;124mcriterion\u001B[39m\u001B[38;5;124m\"\u001B[39m: \u001B[38;5;28mself\u001B[39m\u001B[38;5;241m.\u001B[39mcompute_criterion(label_set)\n\u001B[1;32m     70\u001B[0m     }\n\u001B[1;32m     71\u001B[0m \u001B[38;5;28;01melse\u001B[39;00m:\n\u001B[0;32m---> 72\u001B[0m     criterion_value, selected_feature, threshold \u001B[38;5;241m=\u001B[39m \u001B[38;5;28;43mself\u001B[39;49m\u001B[38;5;241;43m.\u001B[39;49m\u001B[43m_find_threshold\u001B[49m\u001B[43m(\u001B[49m\u001B[43mdata_set\u001B[49m\u001B[43m,\u001B[49m\u001B[43m \u001B[49m\u001B[43mlabel_set\u001B[49m\u001B[43m)\u001B[49m\n\u001B[1;32m     73\u001B[0m     left_indexes \u001B[38;5;241m=\u001B[39m np\u001B[38;5;241m.\u001B[39margwhere(data_set[:, selected_feature] \u001B[38;5;241m<\u001B[39m\u001B[38;5;241m=\u001B[39m threshold)\u001B[38;5;241m.\u001B[39mflatten()\n\u001B[1;32m     74\u001B[0m     right_indexes \u001B[38;5;241m=\u001B[39m np\u001B[38;5;241m.\u001B[39margwhere(data_set[:, selected_feature] \u001B[38;5;241m>\u001B[39m threshold)\u001B[38;5;241m.\u001B[39mflatten()\n",
      "File \u001B[0;32m~/Desktop/IAS-Random-Forest/ias/DecisionTrees/CartDecisionTree.py:52\u001B[0m, in \u001B[0;36mCartDecisionTree._find_threshold\u001B[0;34m(self, data_set, label_set)\u001B[0m\n\u001B[1;32m     50\u001B[0m \u001B[38;5;28;01mif\u001B[39;00m r_x\u001B[38;5;241m.\u001B[39msize \u001B[38;5;241m==\u001B[39m \u001B[38;5;241m0\u001B[39m:\n\u001B[1;32m     51\u001B[0m     \u001B[38;5;28mprint\u001B[39m(data_set)\n\u001B[0;32m---> 52\u001B[0m     \u001B[38;5;28;01mraise\u001B[39;00m \u001B[38;5;167;01mFileExistsError\u001B[39;00m\n\u001B[1;32m     53\u001B[0m     \u001B[38;5;66;03m# return self._find_threshold(data_set, label_set)\u001B[39;00m\n\u001B[1;32m     55\u001B[0m \u001B[38;5;28;01mreturn\u001B[39;00m best_criterion, res_f, res_t\n",
      "\u001B[0;31mFileExistsError\u001B[0m: "
     ]
    }
   ],
   "source": [
    "t = CartDecisionTree()\n",
    "t.fit(train_x, train_y)\n",
    "t.show(Iris.features_names, Iris.class_names)"
   ]
  },
  {
   "cell_type": "code",
   "execution_count": null,
   "outputs": [],
   "source": [
    "show_confusion_matrix(confusion_matrix(Iris.class_number, test_y, t.predict(test_x)), Iris.class_names)\n",
    "print(accuracy_score(test_y, t.predict(test_x)))"
   ],
   "metadata": {
    "collapsed": false,
    "ExecuteTime": {
     "start_time": "2023-04-04T16:09:14.875740Z",
     "end_time": "2023-04-04T16:09:15.066776Z"
    }
   }
  }
 ],
 "metadata": {
  "kernelspec": {
   "display_name": "Python 3 (ipykernel)",
   "language": "python",
   "name": "python3"
  },
  "language_info": {
   "codemirror_mode": {
    "name": "ipython",
    "version": 3
   },
   "file_extension": ".py",
   "mimetype": "text/x-python",
   "name": "python",
   "nbconvert_exporter": "python",
   "pygments_lexer": "ipython3",
   "version": "3.11.2"
  }
 },
 "nbformat": 4,
 "nbformat_minor": 1
}
