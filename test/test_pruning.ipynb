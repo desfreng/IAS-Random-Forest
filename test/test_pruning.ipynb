{
 "cells": [
  {
   "cell_type": "code",
   "execution_count": null,
   "metadata": {
    "collapsed": true
   },
   "outputs": [],
   "source": [
    "from ias.Datasets import Iris\n",
    "from ias.DecisionTrees.NaiveDecisionTree import NaiveDecisionTree\n",
    "import numpy as np"
   ]
  },
  {
   "cell_type": "code",
   "execution_count": null,
   "outputs": [],
   "source": [
    "indices = np.arange(len(Iris.attributes))\n",
    "np.random.shuffle(indices)\n",
    "train_size = int(len(Iris.attributes)*2/3)\n",
    "\n",
    "train_i = indices[:train_size]\n",
    "train_x = Iris.attributes[train_i]\n",
    "train_y = Iris.labels[train_i]\n",
    "\n",
    "test_i = indices[train_size:]\n",
    "test_x = Iris.attributes[test_i]\n",
    "test_y = Iris.labels[test_i]\n",
    "t = NaiveDecisionTree()\n",
    "t.fit(train_x, train_y)\n",
    "t.show()"
   ],
   "metadata": {
    "collapsed": false
   }
  },
  {
   "cell_type": "code",
   "execution_count": null,
   "outputs": [],
   "source": [
    "before_pruning = t._nodes.copy()\n",
    "t.prune(0)\n",
    "\n",
    "t.show()"
   ],
   "metadata": {
    "collapsed": false
   }
  }
 ],
 "metadata": {
  "kernelspec": {
   "display_name": "Python 3",
   "language": "python",
   "name": "python3"
  },
  "language_info": {
   "codemirror_mode": {
    "name": "ipython",
    "version": 2
   },
   "file_extension": ".py",
   "mimetype": "text/x-python",
   "name": "python",
   "nbconvert_exporter": "python",
   "pygments_lexer": "ipython2",
   "version": "2.7.6"
  }
 },
 "nbformat": 4,
 "nbformat_minor": 0
}
