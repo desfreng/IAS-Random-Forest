{
 "cells": [
  {
   "cell_type": "code",
   "execution_count": 1,
   "metadata": {
    "collapsed": true,
    "ExecuteTime": {
     "start_time": "2023-04-04T14:43:53.015876Z",
     "end_time": "2023-04-04T14:43:53.317135Z"
    }
   },
   "outputs": [],
   "source": [
    "from ias.Datasets import Iris\n",
    "from ias.DecisionTrees.NaiveDecisionTree import NaiveDecisionTree"
   ]
  },
  {
   "cell_type": "code",
   "execution_count": 2,
   "outputs": [],
   "source": [
    "import numpy as np"
   ],
   "metadata": {
    "collapsed": false,
    "ExecuteTime": {
     "start_time": "2023-04-04T14:43:53.318105Z",
     "end_time": "2023-04-04T14:43:53.319062Z"
    }
   }
  },
  {
   "cell_type": "code",
   "execution_count": 3,
   "outputs": [],
   "source": [
    "indices = np.arange(len(Iris.features))\n",
    "np.random.shuffle(indices)\n",
    "train_size = int(len(Iris.features) * 2 / 3)\n",
    "\n",
    "train_i = indices[:train_size]\n",
    "train_x = Iris.features[train_i]\n",
    "train_y = Iris.labels[train_i]\n",
    "\n",
    "test_i = indices[train_size:]\n",
    "test_x = Iris.features[test_i]\n",
    "test_y = Iris.labels[test_i]"
   ],
   "metadata": {
    "collapsed": false,
    "ExecuteTime": {
     "start_time": "2023-04-04T14:43:53.320818Z",
     "end_time": "2023-04-04T14:43:53.348276Z"
    }
   }
  },
  {
   "cell_type": "code",
   "execution_count": 4,
   "outputs": [
    {
     "ename": "IndexError",
     "evalue": "only integers, slices (`:`), ellipsis (`...`), numpy.newaxis (`None`) and integer or boolean arrays are valid indices",
     "output_type": "error",
     "traceback": [
      "\u001B[0;31m---------------------------------------------------------------------------\u001B[0m",
      "\u001B[0;31mIndexError\u001B[0m                                Traceback (most recent call last)",
      "Cell \u001B[0;32mIn[4], line 2\u001B[0m\n\u001B[1;32m      1\u001B[0m t \u001B[38;5;241m=\u001B[39m NaiveDecisionTree()\n\u001B[0;32m----> 2\u001B[0m \u001B[43mt\u001B[49m\u001B[38;5;241;43m.\u001B[39;49m\u001B[43mfit\u001B[49m\u001B[43m(\u001B[49m\u001B[43mtrain_x\u001B[49m\u001B[43m,\u001B[49m\u001B[43m \u001B[49m\u001B[43mtrain_y\u001B[49m\u001B[43m)\u001B[49m\n",
      "File \u001B[0;32m~/Desktop/IAS-Random-Forest/ias/AbstractDecisionTree.py:99\u001B[0m, in \u001B[0;36mAbstractDecisionTree.fit\u001B[0;34m(self, data_set, label_set)\u001B[0m\n\u001B[1;32m     95\u001B[0m \u001B[38;5;28mself\u001B[39m\u001B[38;5;241m.\u001B[39m_class_number \u001B[38;5;241m=\u001B[39m \u001B[38;5;28mint\u001B[39m(np\u001B[38;5;241m.\u001B[39mmax(label_set))\n\u001B[1;32m     97\u001B[0m \u001B[38;5;28;01massert\u001B[39;00m \u001B[38;5;28mself\u001B[39m\u001B[38;5;241m.\u001B[39m_max_depth \u001B[38;5;241m>\u001B[39m \u001B[38;5;241m0\u001B[39m\n\u001B[0;32m---> 99\u001B[0m \u001B[38;5;28;43mself\u001B[39;49m\u001B[38;5;241;43m.\u001B[39;49m\u001B[43m_fit_bis\u001B[49m\u001B[43m(\u001B[49m\u001B[43mdata_set\u001B[49m\u001B[43m,\u001B[49m\u001B[43m \u001B[49m\u001B[43mlabel_set\u001B[49m\u001B[43m,\u001B[49m\u001B[43m \u001B[49m\u001B[38;5;28;43mself\u001B[39;49m\u001B[38;5;241;43m.\u001B[39;49m\u001B[43m_new_node_id\u001B[49m\u001B[43m(\u001B[49m\u001B[43m)\u001B[49m\u001B[43m,\u001B[49m\u001B[43m \u001B[49m\u001B[38;5;28;43mself\u001B[39;49m\u001B[38;5;241;43m.\u001B[39;49m\u001B[43m_max_depth\u001B[49m\u001B[43m)\u001B[49m\n\u001B[1;32m    100\u001B[0m \u001B[38;5;28mself\u001B[39m\u001B[38;5;241m.\u001B[39m_fitted \u001B[38;5;241m=\u001B[39m \u001B[38;5;28;01mTrue\u001B[39;00m\n",
      "File \u001B[0;32m~/Desktop/IAS-Random-Forest/ias/AbstractDecisionTree.py:87\u001B[0m, in \u001B[0;36mAbstractDecisionTree._fit_bis\u001B[0;34m(self, data_set, label_set, current_node_id, remaining_depth)\u001B[0m\n\u001B[1;32m     77\u001B[0m right_son_id \u001B[38;5;241m=\u001B[39m \u001B[38;5;28mself\u001B[39m\u001B[38;5;241m.\u001B[39m_new_node_id()\n\u001B[1;32m     79\u001B[0m \u001B[38;5;28mself\u001B[39m\u001B[38;5;241m.\u001B[39m_nodes[current_node_id] \u001B[38;5;241m=\u001B[39m {\u001B[38;5;124m\"\u001B[39m\u001B[38;5;124mis_node\u001B[39m\u001B[38;5;124m\"\u001B[39m: \u001B[38;5;28;01mTrue\u001B[39;00m,\n\u001B[1;32m     80\u001B[0m                                 \u001B[38;5;124m\"\u001B[39m\u001B[38;5;124mcriterion\u001B[39m\u001B[38;5;124m\"\u001B[39m: criterion_value,\n\u001B[1;32m     81\u001B[0m                                 \u001B[38;5;124m\"\u001B[39m\u001B[38;5;124mfeature\u001B[39m\u001B[38;5;124m\"\u001B[39m: selected_feature,\n\u001B[0;32m   (...)\u001B[0m\n\u001B[1;32m     84\u001B[0m                                 \u001B[38;5;124m\"\u001B[39m\u001B[38;5;124mright_son_id\u001B[39m\u001B[38;5;124m\"\u001B[39m: right_son_id,\n\u001B[1;32m     85\u001B[0m                                 \u001B[38;5;124m\"\u001B[39m\u001B[38;5;124msamples\u001B[39m\u001B[38;5;124m\"\u001B[39m: \u001B[38;5;28mlen\u001B[39m(label_set)}\n\u001B[0;32m---> 87\u001B[0m \u001B[38;5;28;43mself\u001B[39;49m\u001B[38;5;241;43m.\u001B[39;49m\u001B[43m_fit_bis\u001B[49m\u001B[43m(\u001B[49m\u001B[43mdata_set\u001B[49m\u001B[43m[\u001B[49m\u001B[43mleft_indexes\u001B[49m\u001B[43m,\u001B[49m\u001B[43m \u001B[49m\u001B[43m:\u001B[49m\u001B[43m]\u001B[49m\u001B[43m,\u001B[49m\u001B[43m \u001B[49m\u001B[43mlabel_set\u001B[49m\u001B[43m[\u001B[49m\u001B[43mleft_indexes\u001B[49m\u001B[43m]\u001B[49m\u001B[43m,\u001B[49m\u001B[43m \u001B[49m\u001B[43mleft_son_id\u001B[49m\u001B[43m,\u001B[49m\n\u001B[1;32m     88\u001B[0m \u001B[43m              \u001B[49m\u001B[43mremaining_depth\u001B[49m\u001B[43m \u001B[49m\u001B[38;5;241;43m-\u001B[39;49m\u001B[43m \u001B[49m\u001B[38;5;241;43m1\u001B[39;49m\u001B[43m)\u001B[49m\n\u001B[1;32m     89\u001B[0m \u001B[38;5;28mself\u001B[39m\u001B[38;5;241m.\u001B[39m_fit_bis(data_set[right_indexes, :], label_set[right_indexes], right_son_id,\n\u001B[1;32m     90\u001B[0m               remaining_depth \u001B[38;5;241m-\u001B[39m \u001B[38;5;241m1\u001B[39m)\n",
      "File \u001B[0;32m~/Desktop/IAS-Random-Forest/ias/AbstractDecisionTree.py:62\u001B[0m, in \u001B[0;36mAbstractDecisionTree._fit_bis\u001B[0;34m(self, data_set, label_set, current_node_id, remaining_depth)\u001B[0m\n\u001B[1;32m     58\u001B[0m \u001B[38;5;28;01mdef\u001B[39;00m \u001B[38;5;21m_fit_bis\u001B[39m(\u001B[38;5;28mself\u001B[39m, data_set: np\u001B[38;5;241m.\u001B[39mndarray[features], label_set: np\u001B[38;5;241m.\u001B[39mndarray[class_id],\n\u001B[1;32m     59\u001B[0m              current_node_id: \u001B[38;5;28mint\u001B[39m, remaining_depth: \u001B[38;5;28mint\u001B[39m) \u001B[38;5;241m-\u001B[39m\u001B[38;5;241m>\u001B[39m \u001B[38;5;28;01mNone\u001B[39;00m:\n\u001B[1;32m     60\u001B[0m     \u001B[38;5;28;01mif\u001B[39;00m (remaining_depth \u001B[38;5;241m==\u001B[39m \u001B[38;5;241m1\u001B[39m) \u001B[38;5;129;01mor\u001B[39;00m (\u001B[38;5;28mself\u001B[39m\u001B[38;5;241m.\u001B[39m_is_label_set_pure(label_set)):\n\u001B[1;32m     61\u001B[0m         \u001B[38;5;66;03m# le nœud est une feuille\u001B[39;00m\n\u001B[0;32m---> 62\u001B[0m         probability_vector \u001B[38;5;241m=\u001B[39m \u001B[43mnp_unique_to_proba_vector\u001B[49m\u001B[43m(\u001B[49m\u001B[43mnp\u001B[49m\u001B[38;5;241;43m.\u001B[39;49m\u001B[43munique\u001B[49m\u001B[43m(\u001B[49m\u001B[43mlabel_set\u001B[49m\u001B[43m,\u001B[49m\u001B[43m \u001B[49m\u001B[43mreturn_counts\u001B[49m\u001B[38;5;241;43m=\u001B[39;49m\u001B[38;5;28;43;01mTrue\u001B[39;49;00m\u001B[43m)\u001B[49m\u001B[43m,\u001B[49m\n\u001B[1;32m     63\u001B[0m \u001B[43m                                                       \u001B[49m\u001B[38;5;28;43mself\u001B[39;49m\u001B[38;5;241;43m.\u001B[39;49m\u001B[43m_class_number\u001B[49m\u001B[43m)\u001B[49m\n\u001B[1;32m     65\u001B[0m         \u001B[38;5;28mself\u001B[39m\u001B[38;5;241m.\u001B[39m_nodes[current_node_id] \u001B[38;5;241m=\u001B[39m {\n\u001B[1;32m     66\u001B[0m             \u001B[38;5;124m\"\u001B[39m\u001B[38;5;124mis_node\u001B[39m\u001B[38;5;124m\"\u001B[39m: \u001B[38;5;28;01mFalse\u001B[39;00m,\n\u001B[1;32m     67\u001B[0m             \u001B[38;5;124m\"\u001B[39m\u001B[38;5;124mprobability_vector\u001B[39m\u001B[38;5;124m\"\u001B[39m: probability_vector,\n\u001B[1;32m     68\u001B[0m             \u001B[38;5;124m\"\u001B[39m\u001B[38;5;124msamples\u001B[39m\u001B[38;5;124m\"\u001B[39m: \u001B[38;5;28mlen\u001B[39m(label_set),\n\u001B[1;32m     69\u001B[0m             \u001B[38;5;124m\"\u001B[39m\u001B[38;5;124mcriterion\u001B[39m\u001B[38;5;124m\"\u001B[39m: \u001B[38;5;28mself\u001B[39m\u001B[38;5;241m.\u001B[39mcompute_criterion(label_set)\n\u001B[1;32m     70\u001B[0m         }\n\u001B[1;32m     71\u001B[0m     \u001B[38;5;28;01melse\u001B[39;00m:\n",
      "File \u001B[0;32m~/Desktop/IAS-Random-Forest/ias/utils.py:23\u001B[0m, in \u001B[0;36mnp_unique_to_proba_vector\u001B[0;34m(np_unique_return, number_of_class)\u001B[0m\n\u001B[1;32m     20\u001B[0m proba_vector \u001B[38;5;241m=\u001B[39m np\u001B[38;5;241m.\u001B[39mzeros(number_of_class)\n\u001B[1;32m     22\u001B[0m \u001B[38;5;28;01mfor\u001B[39;00m i \u001B[38;5;129;01min\u001B[39;00m \u001B[38;5;28mrange\u001B[39m(\u001B[38;5;28mlen\u001B[39m(class_list)):\n\u001B[0;32m---> 23\u001B[0m     \u001B[43mproba_vector\u001B[49m\u001B[43m[\u001B[49m\u001B[43mclass_list\u001B[49m\u001B[43m[\u001B[49m\u001B[43mi\u001B[49m\u001B[43m]\u001B[49m\u001B[43m]\u001B[49m \u001B[38;5;241m=\u001B[39m class_distribution[i]\n\u001B[1;32m     25\u001B[0m \u001B[38;5;28;01mreturn\u001B[39;00m proba_vector \u001B[38;5;241m/\u001B[39m np\u001B[38;5;241m.\u001B[39msum(class_distribution)\n",
      "\u001B[0;31mIndexError\u001B[0m: only integers, slices (`:`), ellipsis (`...`), numpy.newaxis (`None`) and integer or boolean arrays are valid indices"
     ]
    }
   ],
   "source": [
    "t = NaiveDecisionTree()\n",
    "t.fit(train_x, train_y)"
   ],
   "metadata": {
    "collapsed": false
   }
  },
  {
   "cell_type": "code",
   "execution_count": null,
   "outputs": [],
   "source": [
    "np.zeros(int(2.0))"
   ],
   "metadata": {
    "collapsed": false,
    "ExecuteTime": {
     "start_time": "2023-04-04T14:38:47.208698Z",
     "end_time": "2023-04-04T14:38:47.212431Z"
    }
   }
  }
 ],
 "metadata": {
  "kernelspec": {
   "display_name": "Python 3",
   "language": "python",
   "name": "python3"
  },
  "language_info": {
   "codemirror_mode": {
    "name": "ipython",
    "version": 2
   },
   "file_extension": ".py",
   "mimetype": "text/x-python",
   "name": "python",
   "nbconvert_exporter": "python",
   "pygments_lexer": "ipython2",
   "version": "2.7.6"
  }
 },
 "nbformat": 4,
 "nbformat_minor": 0
}
