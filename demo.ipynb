{
 "cells": [
  {
   "cell_type": "markdown",
   "metadata": {},
   "source": [
    "# Démonstration\n",
    "\n",
    "Nous présentons notre implémentation de l'algorithme Random Forest. \n",
    "\n",
    "\n",
    "## De quoi s'agit-il ?\n",
    "L'algorithme Random Forest est une méthode d'apprentissage automatique qui construit plusieurs arbres de décision et combine leurs prédictions pour obtenir des résultats plus précis et robustes. Il utilise l'échantillonnage aléatoire et la sélection aléatoire de variables pour réduire la corrélation entre les arbres.\n",
    "\n",
    "## Exemple: Dataset eMnist digits\n",
    "Le dataset eMnist Digits est un sous-ensemble du dataset eMnist spécifiquement conçu pour l'apprentissage et la validation des algorithmes de reconnaissance de chiffres manuscrits. Ce dataset contient 280 000 échantillons d'images de chiffres allant de 0 à 9 (10 classes différentes, avec 28 000 exemples par classe). Chaque image est en niveaux de gris et présente une résolution de 28x28 pixels.\n",
    "\n",
    "### Chargement du dataset"
   ]
  },
  {
   "cell_type": "code",
   "execution_count": 1,
   "metadata": {},
   "outputs": [],
   "source": [
    "import numpy\n",
    "from ias.Datasets import Emnist\n",
    "from ias import RandomForest, DecisionTree, PCA, split_dataset\n",
    "from ias.Metrics import accuracy_score, confusion_matrix, show_confusion_matrix"
   ]
  },
  {
   "cell_type": "markdown",
   "metadata": {},
   "source": [
    "### Prétraitement"
   ]
  },
  {
   "cell_type": "code",
   "execution_count": 2,
   "metadata": {},
   "outputs": [],
   "source": [
    "emnist_train_x, emnist_train_y, emnist_test_x, emnist_test_y = split_dataset(0.6, Emnist)\n",
    "pca = PCA(0.9)\n",
    "\n",
    "pca.fit(emnist_train_x)\n",
    "emnist_compressed_train_x = pca.compress(emnist_train_x)\n",
    "emnist_compressed_test_x = pca.compress(emnist_test_x)"
   ]
  },
  {
   "cell_type": "markdown",
   "metadata": {},
   "source": [
    "### Traitement par Random Forest"
   ]
  },
  {
   "cell_type": "code",
   "execution_count": 3,
   "metadata": {},
   "outputs": [],
   "source": [
    "emnist_forest = RandomForest(tree_number=100, training_subset_size=250, do_bagging=True)\n",
    "emnist_forest.fit(emnist_compressed_train_x, emnist_train_y)"
   ]
  },
  {
   "cell_type": "markdown",
   "metadata": {},
   "source": [
    "### Traitement par simple Decision Tree"
   ]
  },
  {
   "cell_type": "code",
   "execution_count": null,
   "metadata": {},
   "outputs": [],
   "source": [
    "emnist_tree = DecisionTree(max_depth=10, do_bagging=True)\n",
    "emnist_tree.fit(emnist_compressed_train_x, emnist_train_y)"
   ]
  },
  {
   "cell_type": "markdown",
   "metadata": {},
   "source": [
    "### Comparaison des résultats"
   ]
  },
  {
   "cell_type": "code",
   "execution_count": null,
   "metadata": {},
   "outputs": [],
   "source": [
    "tree_prediction_y = emnist_tree.predict(emnist_test_x)\n",
    "conf_matrix = confusion_matrix(RandomForest.class_number, emnist_test_y, tree_prediction_y)\n",
    "show_confusion_matrix(conf_matrix, RandomForest.class_names)\n",
    "print(f\"Accuracy score : {accuracy_score(emnist_test_y, tree_prediction_y):.3f}\")"
   ]
  },
  {
   "cell_type": "code",
   "execution_count": null,
   "metadata": {},
   "outputs": [],
   "source": [
    "forest_prediction_y = emnist_forest.predict(emnist_test_x)\n",
    "conf_matrix = confusion_matrix(RandomForest.class_number, emnist_test_y, tree_prediction_y)\n",
    "show_confusion_matrix(conf_matrix, RandomForest.class_names)\n",
    "print(f\"Accuracy score : {accuracy_score(emnist_test_y, tree_prediction_y):.3f}\")"
   ]
  },
  {
   "cell_type": "markdown",
   "metadata": {},
   "source": []
  }
 ],
 "metadata": {
  "kernelspec": {
   "display_name": "Python 3 (ipykernel)",
   "language": "python",
   "name": "python3"
  },
  "language_info": {
   "codemirror_mode": {
    "name": "ipython",
    "version": 3
   },
   "file_extension": ".py",
   "mimetype": "text/x-python",
   "name": "python",
   "nbconvert_exporter": "python",
   "pygments_lexer": "ipython3",
   "version": "3.9.6"
  },
  "vscode": {
   "interpreter": {
    "hash": "3f6e1a07dcabc927910d75248b1c3a8dccd4a77d7a43b2e4e2d482fe8d715c9a"
   }
  }
 },
 "nbformat": 4,
 "nbformat_minor": 2
}
