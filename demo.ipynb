{
 "cells": [
  {
   "cell_type": "markdown",
   "metadata": {},
   "source": [
    "# Démonstration\n",
    "\n",
    "Nous présentons notre implémentation de l'algorithme Random Forest. \n",
    "\n",
    "\n",
    "## De quoi s'agit-il ?\n",
    "L'algorithme Random Forest est une méthode d'apprentissage automatique qui construit plusieurs arbres de décision et combine leurs prédictions pour obtenir des résultats plus précis et robustes. Il utilise l'échantillonnage aléatoire et la sélection aléatoire de variables pour réduire la corrélation entre les arbres.\n",
    "\n",
    "## Exemple 1: Dataset Iris\n",
    "Le dataset Iris contient 150 échantillons de trois espèces d'iris avec quatre caractéristiques (longueur et largeur des sépales et pétales) pour chaque échantillon. Il est couramment utilisé pour tester les algorithmes de classification. Nous avons associé les numéros aux espèces de telle sorte : 0 pour setosa, 1 pour virginica et finalement 2 pour versicolor.\n",
    "\n",
    "### Chargement du dataset"
   ]
  },
  {
   "cell_type": "code",
   "execution_count": 4,
   "metadata": {},
   "outputs": [],
   "source": [
    "import numpy\n",
    "\n",
    "csv = numpy.genfromtxt ('iris.data.csv', delimiter=\",\")\n",
    "x = csv[:, :-1]\n",
    "y = csv[:, [-1]]\n",
    "length = len(x)"
   ]
  },
  {
   "cell_type": "markdown",
   "metadata": {},
   "source": [
    "### Séparation des données d'entrainement"
   ]
  },
  {
   "cell_type": "code",
   "execution_count": 5,
   "metadata": {},
   "outputs": [],
   "source": [
    "indices = numpy.arange(length)\n",
    "numpy.random.shuffle(indices)\n",
    "train_size = int(length*2/3)\n",
    "\n",
    "train_i = indices[:train_size]\n",
    "train_x = x[train_i]\n",
    "train_y = y[train_i]\n",
    "\n",
    "check_i = indices[train_size:]\n",
    "check_x = x[check_i]\n",
    "check_y = y[check_i]"
   ]
  },
  {
   "cell_type": "code",
   "execution_count": null,
   "metadata": {},
   "outputs": [],
   "source": []
  }
 ],
 "metadata": {
  "kernelspec": {
   "display_name": "Python 3.9.6 ('env': venv)",
   "language": "python",
   "name": "python3"
  },
  "language_info": {
   "codemirror_mode": {
    "name": "ipython",
    "version": 3
   },
   "file_extension": ".py",
   "mimetype": "text/x-python",
   "name": "python",
   "nbconvert_exporter": "python",
   "pygments_lexer": "ipython3",
   "version": "3.9.6"
  },
  "orig_nbformat": 4,
  "vscode": {
   "interpreter": {
    "hash": "3f6e1a07dcabc927910d75248b1c3a8dccd4a77d7a43b2e4e2d482fe8d715c9a"
   }
  }
 },
 "nbformat": 4,
 "nbformat_minor": 2
}
