{
 "cells": [
  {
   "cell_type": "markdown",
   "metadata": {},
   "source": [
    "# Random Splitter & \"Extremely Randomized Forest\""
   ]
  },
  {
   "cell_type": "markdown",
   "metadata": {
    "vscode": {
     "languageId": "plaintext"
    }
   },
   "source": [
    "Pour aller plus loin, nous avons implemente la variante du `Random Forest` appele `Extremely Randomized Forest`. Les changements sont dans la creation des Decision Trees, ils utilisent pour cette version le splitter \"random\"."
   ]
  },
  {
   "cell_type": "markdown",
   "metadata": {},
   "source": [
    "## Chargement des donnees et pretraitement"
   ]
  },
  {
   "cell_type": "code",
   "execution_count": 1,
   "metadata": {
    "scrolled": true
   },
   "outputs": [
    {
     "ename": "ModuleNotFoundError",
     "evalue": "No module named 'ias'",
     "output_type": "error",
     "traceback": [
      "\u001b[0;31m---------------------------------------------------------------------------\u001b[0m",
      "\u001b[0;31mModuleNotFoundError\u001b[0m                       Traceback (most recent call last)",
      "Cell \u001b[0;32mIn[1], line 1\u001b[0m\n\u001b[0;32m----> 1\u001b[0m \u001b[38;5;28;01mfrom\u001b[39;00m \u001b[38;5;21;01mias\u001b[39;00m \u001b[38;5;28;01mimport\u001b[39;00m DecisionTree, PCA, split_dataset\n\u001b[1;32m      2\u001b[0m \u001b[38;5;28;01mfrom\u001b[39;00m \u001b[38;5;21;01mias\u001b[39;00m\u001b[38;5;21;01m.\u001b[39;00m\u001b[38;5;21;01mDatasets\u001b[39;00m \u001b[38;5;28;01mimport\u001b[39;00m Emnist, Iris\n\u001b[1;32m      3\u001b[0m \u001b[38;5;28;01mfrom\u001b[39;00m \u001b[38;5;21;01mias\u001b[39;00m\u001b[38;5;21;01m.\u001b[39;00m\u001b[38;5;21;01mMetrics\u001b[39;00m \u001b[38;5;28;01mimport\u001b[39;00m accuracy_score, confusion_matrix, show_confusion_matrix\n",
      "\u001b[0;31mModuleNotFoundError\u001b[0m: No module named 'ias'"
     ]
    }
   ],
   "source": [
    "from ias import DecisionTree, PCA, split_dataset\n",
    "from ias.Datasets import Emnist, Iris\n",
    "from ias.Metrics import accuracy_score, confusion_matrix, show_confusion_matrix"
   ]
  },
  {
   "cell_type": "code",
   "execution_count": 2,
   "metadata": {},
   "outputs": [
    {
     "ename": "NameError",
     "evalue": "name 'split_dataset' is not defined",
     "output_type": "error",
     "traceback": [
      "\u001b[0;31m---------------------------------------------------------------------------\u001b[0m",
      "\u001b[0;31mNameError\u001b[0m                                 Traceback (most recent call last)",
      "Cell \u001b[0;32mIn[2], line 1\u001b[0m\n\u001b[0;32m----> 1\u001b[0m iris_train_x, iris_train_y, iris_test_x, iris_test_y \u001b[38;5;241m=\u001b[39m \u001b[43msplit_dataset\u001b[49m(\u001b[38;5;241m0.6\u001b[39m, Iris)\n",
      "\u001b[0;31mNameError\u001b[0m: name 'split_dataset' is not defined"
     ]
    }
   ],
   "source": [
    "iris_train_x, iris_train_y, iris_test_x, iris_test_y = split_dataset(0.6, Iris)\n",
    "emnist_train_x, emnist_train_y, emnist_test_x, emnist_test_y = split_dataset(1000, Emnist)\n",
    "\n",
    "pca = PCA(0.90)\n",
    "pca.fit(emnist_train_x)\n",
    "\n",
    "emnist_compressed_train_x = pca.compress(emnist_train_x)\n",
    "emnist_compressed_test_x = pca.compress(emnist_test_x)"
   ]
  },
  {
   "cell_type": "markdown",
   "metadata": {},
   "source": [
    "## Best splitter vs Random splitter"
   ]
  },
  {
   "cell_type": "code",
   "execution_count": null,
   "metadata": {},
   "outputs": [],
   "source": [
    "# Decision Tree avec meilleur splitter\n",
    "iris_tree_best = DecisionTree(max_depth=5, splitter=\"best\")\n",
    "iris_tree_best.fit(iris_train_x, iris_train_y)\n",
    "iris_prediction_y_best = iris_tree.predict(iris_test_x)"
   ]
  },
  {
   "cell_type": "code",
   "execution_count": 3,
   "metadata": {},
   "outputs": [
    {
     "ename": "NameError",
     "evalue": "name 'DecisionTree' is not defined",
     "output_type": "error",
     "traceback": [
      "\u001b[0;31m---------------------------------------------------------------------------\u001b[0m",
      "\u001b[0;31mNameError\u001b[0m                                 Traceback (most recent call last)",
      "Cell \u001b[0;32mIn[3], line 2\u001b[0m\n\u001b[1;32m      1\u001b[0m \u001b[38;5;66;03m# Decision Tree avec random splitter\u001b[39;00m\n\u001b[0;32m----> 2\u001b[0m iris_tree_random \u001b[38;5;241m=\u001b[39m \u001b[43mDecisionTree\u001b[49m(max_depth\u001b[38;5;241m=\u001b[39m\u001b[38;5;241m5\u001b[39m, splitter\u001b[38;5;241m=\u001b[39m\u001b[38;5;124m\"\u001b[39m\u001b[38;5;124mrandom\u001b[39m\u001b[38;5;124m\"\u001b[39m)\n\u001b[1;32m      3\u001b[0m iris_tree_random\u001b[38;5;241m.\u001b[39mfit(iris_train_x, iris_train_y)\n\u001b[1;32m      4\u001b[0m iris_prediction_y_random \u001b[38;5;241m=\u001b[39m iris_tree\u001b[38;5;241m.\u001b[39mpredict(iris_test_x)\n",
      "\u001b[0;31mNameError\u001b[0m: name 'DecisionTree' is not defined"
     ]
    }
   ],
   "source": [
    "# Decision Tree avec random splitter\n",
    "iris_tree_random = DecisionTree(max_depth=5, splitter=\"random\")\n",
    "iris_tree_random.fit(iris_train_x, iris_train_y)\n",
    "iris_prediction_y_random = iris_tree.predict(iris_test_x)"
   ]
  },
  {
   "cell_type": "code",
   "execution_count": null,
   "metadata": {},
   "outputs": [],
   "source": [
    "# Comparaison des resultats sur Iris sur le test_set\n",
    "iris_conf_matrix_best = confusion_matrix(Iris.class_number, iris_test_y, iris_prediction_y_best)\n",
    "iris_conf_matrix_random = confusion_matrix(Iris.class_number, iris_test_y, iris_prediction_y_random)\n",
    "\n",
    "fig = \n",
    "show_confusion_matrix(iris_conf_matrix_best, Iris.class_names, ax=axe)\n",
    "show_confusion_matrix(iris_conf_matrix_random, Iris.class_names, ax=axe)\n",
    "fig.show()\n",
    "\n",
    "print(f\"Accuracy score best splitter : {accuracy_score(iris_test_y, iris_prediction_y_best):.3f}\")\n",
    "print(f\"Accuracy score random splitter : {accuracy_score(iris_test_y, iris_prediction_y_random):.3f}\")"
   ]
  },
  {
   "cell_type": "code",
   "execution_count": null,
   "metadata": {},
   "outputs": [],
   "source": [
    "# Comparaison des resultats sur Iris sur le train_set\n",
    "iris_conf_matrix_best = confusion_matrix(Iris.class_number, iris_train_y, iris_prediction_y_best)\n",
    "iris_conf_matrix_random = confusion_matrix(Iris.class_number, iris_train_y, iris_prediction_y_random)\n",
    "\n",
    "fig =\n",
    "show_confusion_matrix(iris_conf_matrix_best, Iris.class_names)\n",
    "show_confusion_matrix(iris_conf_matrix_random, Iris.class_names, ax=axe)\n",
    "fig.show()\n",
    "\n",
    "print(f\"Accuracy score Random Forest : {accuracy_score(iris_test_y, iris_prediction_y_best):.3f}\")\n",
    "print(f\"Accuracy score Extremely Random Forest : {accuracy_score(iris_test_y, iris_prediction_y_random):.3f}\")"
   ]
  },
  {
   "cell_type": "code",
   "execution_count": null,
   "metadata": {},
   "outputs": [],
   "source": [
    "import matplotlib.pyplot as plt\n",
    "\n",
    "# Création de données pour les graphiques\n",
    "x = [1, 2, 3, 4, 5]\n",
    "y1 = [1, 4, 9, 16, 25]\n",
    "y2 = [5, 12, 19, 28, 39]\n",
    "\n",
    "# Création de la figure et des axes\n",
    "fig, (ax1, ax2) = plt.subplots(1, 2, figsize=(10, 5))\n",
    "\n",
    "# Premier axe : ax1\n",
    "ax1.plot(x, y1, 'r', marker='o', label='y1 = x^2')\n",
    "ax1.set_title('Axe 1')\n",
    "ax1.set_xlabel('x')\n",
    "ax1.set_ylabel('y1')\n",
    "ax1.legend()\n",
    "\n",
    "# Deuxième axe : ax2\n",
    "ax2.plot(x, y2, 'b', marker='s', label='y2 = x^2 + x')\n",
    "ax2.set_title('Axe 2')\n",
    "ax2.set_xlabel('x')\n",
    "ax2.set_ylabel('y2')\n",
    "ax2.legend()\n",
    "\n",
    "# Affichage de la figure\n",
    "plt.show()\n",
    "@MLouis8\n"
   ]
  },
  {
   "cell_type": "markdown",
   "metadata": {},
   "source": [
    "### Conclusion"
   ]
  },
  {
   "cell_type": "markdown",
   "metadata": {},
   "source": [
    "## Random Forest vs Extremely Random Forest"
   ]
  },
  {
   "cell_type": "code",
   "execution_count": null,
   "metadata": {},
   "outputs": [],
   "source": [
    "# Random Forest random splitter\n",
    "emnist_forest = RandomForest(tree_number=100, training_subset_size=250, do_bagging=True)\n",
    "emnist_forest.fit(emnist_compressed_train_x, emnist_train_y)\n",
    "emnist_prediction_y = emnist_tree.predict(emnist_compressed_test_x)"
   ]
  },
  {
   "cell_type": "code",
   "execution_count": 4,
   "metadata": {},
   "outputs": [
    {
     "ename": "NameError",
     "evalue": "name 'RandomForest' is not defined",
     "output_type": "error",
     "traceback": [
      "\u001b[0;31m---------------------------------------------------------------------------\u001b[0m",
      "\u001b[0;31mNameError\u001b[0m                                 Traceback (most recent call last)",
      "Cell \u001b[0;32mIn[4], line 2\u001b[0m\n\u001b[1;32m      1\u001b[0m \u001b[38;5;66;03m# Extremely Random Forest random splitter\u001b[39;00m\n\u001b[0;32m----> 2\u001b[0m emnist_forest_extr \u001b[38;5;241m=\u001b[39m \u001b[43mRandomForest\u001b[49m(tree_number\u001b[38;5;241m=\u001b[39m\u001b[38;5;241m100\u001b[39m, training_subset_size\u001b[38;5;241m=\u001b[39m\u001b[38;5;241m250\u001b[39m, do_bagging\u001b[38;5;241m=\u001b[39m\u001b[38;5;28;01mTrue\u001b[39;00m, splitter\u001b[38;5;241m=\u001b[39m\u001b[38;5;124m\"\u001b[39m\u001b[38;5;124mrandom\u001b[39m\u001b[38;5;124m\"\u001b[39m)\n\u001b[1;32m      3\u001b[0m emnist_forest_extr\u001b[38;5;241m.\u001b[39mfit(emnist_compressed_train_x, emnist_train_y)\n\u001b[1;32m      4\u001b[0m emnist_prediction_y_forest_extr \u001b[38;5;241m=\u001b[39m emnist_tree\u001b[38;5;241m.\u001b[39mpredict(emnist_compressed_test_x)\n",
      "\u001b[0;31mNameError\u001b[0m: name 'RandomForest' is not defined"
     ]
    }
   ],
   "source": [
    "# Extremely Random Forest random splitter\n",
    "emnist_forest_extr = RandomForest(tree_number=100, training_subset_size=250, do_bagging=True, splitter=\"random\")\n",
    "emnist_forest_extr.fit(emnist_compressed_train_x, emnist_train_y)\n",
    "emnist_prediction_y_forest_extr = emnist_tree.predict(emnist_compressed_test_x)"
   ]
  },
  {
   "cell_type": "code",
   "execution_count": null,
   "metadata": {},
   "outputs": [],
   "source": [
    "# Comparaison des resultats sur eMNIST sur le test_set\n",
    "emnist_conf_matrix = confusion_matrix(Emnist.class_number, emnist_test_y, emnist_prediction_y)\n",
    "emnist_conf_matrix_extr = confusion_matrix(Emnist.class_number, emnist_test_y, emnist_prediction_y)\n",
    "\n",
    "show_confusion_matrix(emnist_conf_matrix, Emnist.class_names, ax=ax0)\n",
    "show_confusion_matrix(emnist_conf_matrix_extr, Emnist.class_names, ax=ax0)\n",
    "\n",
    "print(f\"Accuracy score normal Random Forest : {accuracy_score(emnist_test_y, emnist_prediction_y):.3f}\")\n",
    "print(f\"Accuracy score extremely Random Forest : {accuracy_score(emnist_test_y, emnist_prediction_y_extr):.3f}\")"
   ]
  },
  {
   "cell_type": "code",
   "execution_count": null,
   "metadata": {},
   "outputs": [],
   "source": [
    "# Comparaison des resultats sur eMNIST sur le train_set\n",
    "emnist_conf_matrix = confusion_matrix(Emnist.class_number, emnist_train_y, emnist_prediction_y)\n",
    "emnist_conf_matrix_extr = confusion_matrix(Emnist.class_number, emnist_train_y, emnist_prediction_y)\n",
    "\n",
    "show_confusion_matrix(emnist_conf_matrix, Emnist.class_names, ax=ax0)\n",
    "show_confusion_matrix(emnist_conf_matrix_extr, Emnist.class_names, ax=ax0)\n",
    "\n",
    "print(f\"Accuracy score normal Random Forest : {accuracy_score(emnist_train_y, emnist_prediction_y):.3f}\")\n",
    "print(f\"Accuracy score extremely Random Forest : {accuracy_score(emnist_train_y, emnist_prediction_y_extr):.3f}\")"
   ]
  },
  {
   "cell_type": "markdown",
   "metadata": {},
   "source": [
    "### Conclusion"
   ]
  },
  {
   "cell_type": "code",
   "execution_count": null,
   "metadata": {},
   "outputs": [],
   "source": []
  }
 ],
 "metadata": {
  "kernelspec": {
   "display_name": "Python 3 (ipykernel)",
   "language": "python",
   "name": "python3"
  },
  "language_info": {
   "codemirror_mode": {
    "name": "ipython",
    "version": 3
   },
   "file_extension": ".py",
   "mimetype": "text/x-python",
   "name": "python",
   "nbconvert_exporter": "python",
   "pygments_lexer": "ipython3",
   "version": "3.10.10"
  }
 },
 "nbformat": 4,
 "nbformat_minor": 1
}
