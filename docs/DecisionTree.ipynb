{
 "cells": [
  {
   "cell_type": "markdown",
   "source": [
    "# Decision Tree (Sans Bagging, avec splitter \"best\")\n",
    "\n",
    "L'algorithme Decision Tree CART est un algorithme de classification qui crée un arbre. À chaque noeud, il y a un seuil de discrimination ainsi qu'une feature associée à ce seuil. À chaque feuille, il y a la distribution des éléments en fonctions des classes.\n",
    "CART construit donc un arbre binaire, qui classifie les éléments en les faisant tomber depuis la racine de l'arbre, ils passent ou passent pas les seuils des noeuds, arrivant dans une certaine feuille qui leur donnera une classe.\n",
    "Pour créer les seuils des noeuds on va itérer sur chacune des features et chercher l'élément dont la valeur de l'attribut séparerai le mieux le dataset. Sauf que pour pouvoir comparer et déterminer le meilleur seuil il nous faut des critères (criterions en anglais). Nous avons essayé deux critères de pureté: Gini et Log-loss. Voyons comment ils réagissent sur des exemples concrets."
   ],
   "metadata": {
    "collapsed": false
   }
  },
  {
   "cell_type": "markdown",
   "source": [
    "## Chargement des données et prétraitement"
   ],
   "metadata": {
    "collapsed": false
   }
  },
  {
   "cell_type": "code",
   "execution_count": 1,
   "outputs": [],
   "source": [
    "from ias import DecisionTree, PCA, split_dataset, RandomForest\n",
    "from ias.Datasets import Iris, Emnist\n",
    "from ias.Metrics import accuracy_score, confusion_matrix, show_confusion_matrix\n",
    "import matplotlib.pyplot as plt"
   ],
   "metadata": {
    "collapsed": false,
    "ExecuteTime": {
     "start_time": "2023-04-06T23:06:44.979472Z",
     "end_time": "2023-04-06T23:06:45.346063Z"
    }
   }
  },
  {
   "cell_type": "code",
   "execution_count": 2,
   "outputs": [],
   "source": [
    "iris_train_x, iris_train_y, iris_test_x, iris_test_y = split_dataset(0.6, Iris)"
   ],
   "metadata": {
    "collapsed": false,
    "ExecuteTime": {
     "start_time": "2023-04-06T23:07:40.741792Z",
     "end_time": "2023-04-06T23:07:40.749766Z"
    }
   }
  },
  {
   "cell_type": "code",
   "execution_count": 3,
   "outputs": [],
   "source": [
    "emnist_train_x, emnist_train_y, emnist_test_x, emnist_test_y = split_dataset(1000, Emnist)\n",
    "\n",
    "pca = PCA(0.90)\n",
    "pca.fit(emnist_train_x)\n",
    "\n",
    "emnist_compressed_train_x = pca.compress(emnist_train_x)\n",
    "emnist_compressed_test_x = pca.compress(emnist_test_x)"
   ],
   "metadata": {
    "collapsed": false,
    "ExecuteTime": {
     "start_time": "2023-04-06T23:07:41.341089Z",
     "end_time": "2023-04-06T23:07:44.398538Z"
    }
   }
  },
  {
   "cell_type": "markdown",
   "source": [
    "## Comparaison sur Iris"
   ],
   "metadata": {
    "collapsed": false
   }
  },
  {
   "cell_type": "code",
   "execution_count": null,
   "outputs": [],
   "source": [],
   "metadata": {
    "collapsed": false,
    "ExecuteTime": {
     "start_time": "2023-04-06T22:56:13.640497Z",
     "end_time": "2023-04-06T22:56:13.645793Z"
    }
   }
  },
  {
   "cell_type": "markdown",
   "source": [
    "## Comparaison sur eMNIST"
   ],
   "metadata": {
    "collapsed": false
   }
  },
  {
   "cell_type": "code",
   "execution_count": null,
   "outputs": [],
   "source": [],
   "metadata": {
    "collapsed": false,
    "ExecuteTime": {
     "start_time": "2023-04-06T22:56:27.441624Z",
     "end_time": "2023-04-06T22:56:27.447745Z"
    }
   }
  },
  {
   "cell_type": "markdown",
   "source": [
    "## Conclusions"
   ],
   "metadata": {
    "collapsed": false
   }
  },
  {
   "cell_type": "code",
   "execution_count": null,
   "outputs": [],
   "source": [],
   "metadata": {
    "collapsed": false
   }
  }
 ],
 "metadata": {
  "kernelspec": {
   "display_name": "Python 3",
   "language": "python",
   "name": "python3"
  },
  "language_info": {
   "codemirror_mode": {
    "name": "ipython",
    "version": 2
   },
   "file_extension": ".py",
   "mimetype": "text/x-python",
   "name": "python",
   "nbconvert_exporter": "python",
   "pygments_lexer": "ipython2",
   "version": "2.7.6"
  }
 },
 "nbformat": 4,
 "nbformat_minor": 0
}
