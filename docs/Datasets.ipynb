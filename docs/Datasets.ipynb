{
 "cells": [
  {
   "cell_type": "markdown",
   "metadata": {},
   "source": [
    "# Datasets"
   ]
  },
  {
   "cell_type": "markdown",
   "metadata": {},
   "source": [
    "Nous détaillons dans cette section l'installation ainsi que la manipulation des _Datasets_ dans notre projet.\n",
    "\n",
    "[Retour au sommaire](../README.md#table-des-matières)"
   ]
  },
  {
   "cell_type": "code",
   "execution_count": 1,
   "metadata": {
    "ExecuteTime": {
     "start_time": "2023-04-07T02:45:18.106821Z",
     "end_time": "2023-04-07T02:45:18.377718Z"
    }
   },
   "outputs": [],
   "source": [
    "import os\n",
    "import sys\n",
    "\n",
    "import numpy as np\n",
    "from matplotlib import pyplot as plt\n",
    "\n",
    "if os.getcwd().endswith(\"docs\"):\n",
    "    sys.path.append(os.path.join(os.getcwd(), \"..\"))"
   ]
  },
  {
   "cell_type": "markdown",
   "metadata": {},
   "source": [
    "## Datasets Utilisés\n",
    "\n",
    "Deux _Datasets_ sont utilisés dans ce projet : _Iris_ et _EMNIST_. Nous utilisons le premier pour vérifier le fonctionnement de nos algorithmes. Le second, lui, est utilisé afin de comparer les performances de nos différents algorithmes.\n",
    "\n",
    "Un script d'installation est disponible dans `datasets/install_datasets.py`. Pensez à l'exécuter avant toute exécution de code !"
   ]
  },
  {
   "cell_type": "markdown",
   "source": [
    "### Iris\n",
    "Le dataset Iris est un ensemble de données qui contient des informations sur trois espèces différentes d'iris : Iris setosa, Iris versicolor et Iris virginica. Il a été collecté par le botaniste britannique Ronald Fisher en 1936 et est souvent utilisé comme exemple dans l'apprentissage automatique et l'analyse de données.\n",
    "\n",
    "Le dataset Iris contient 150 exemples d'iris, avec 50 exemples pour chaque espèce. Pour chaque exemple, il y a des mesures de longueur et de largeur des sépales et des pétales de l'iris en centimètres."
   ],
   "metadata": {
    "collapsed": false
   }
  },
  {
   "cell_type": "markdown",
   "source": [
    "### EMNIST\n",
    "Nous travaillons sur un sous ensemble du dataset EMNIST : EMNIST Digits. Celui-ci est spécifiquement conçu pour l'apprentissage et la validation des algorithmes de reconnaissance de chiffres manuscrits. Ce dataset contient 280 000 échantillons d'images de chiffres allant de 0 à 9 (10 classes différentes, avec 28 000 exemples par classe). Chaque image est en niveaux de gris et présente une résolution de 28x28 pixels."
   ],
   "metadata": {
    "collapsed": false
   }
  },
  {
   "cell_type": "markdown",
   "metadata": {},
   "source": [
    "## Manipulations\n",
    "\n",
    "Une classe `Dataset` a été implémentée au sein du module `ias`. Cette classe permet de manipuler les deux datasets à la volée, sans importation ni lecture des données explicite pour l'utilisateur.\n",
    "\n",
    "Par exemple, le code suivant permet d'importer le dataset _Iris_ et de travailler avec."
   ]
  },
  {
   "cell_type": "code",
   "execution_count": 2,
   "metadata": {
    "ExecuteTime": {
     "start_time": "2023-04-07T02:45:18.378652Z",
     "end_time": "2023-04-07T02:45:18.387480Z"
    }
   },
   "outputs": [
    {
     "name": "stdout",
     "output_type": "stream",
     "text": [
      "Nombre de classes : 3\n"
     ]
    }
   ],
   "source": [
    "from ias.Datasets import Iris\n",
    "\n",
    "print(f\"Nombre de classes : {Iris.class_number}\")"
   ]
  },
  {
   "cell_type": "markdown",
   "metadata": {},
   "source": [
    "Le nom des classes ainsi que la description des _features_ est également disponible. Celles-ci se présentent sous la forme de tableaux, dans l'ordre d'apparition pour les données.\n",
    "\n",
    "La classe codée par 0 est la première dans le tableau des noms des classes, et de même pour le nom des _features_."
   ]
  },
  {
   "cell_type": "code",
   "execution_count": 3,
   "metadata": {
    "ExecuteTime": {
     "start_time": "2023-04-07T02:45:18.387957Z",
     "end_time": "2023-04-07T02:45:18.396358Z"
    }
   },
   "outputs": [
    {
     "name": "stdout",
     "output_type": "stream",
     "text": [
      "Classes disponibles (dans l'ordre) : ['Iris-setosa', 'Iris-versicolor', 'Iris-virginica']\n",
      "Nom des Features (dans l'ordre) : ['sepal length in cm', 'sepal width in cm', 'petal length in cm', 'petal width in cm']\n",
      "\n",
      "Quelques elements du dataset : \n",
      "Element n°52  -> Attributs : [6.9 3.1 4.9 1.5], Label : 1, Classe : Iris-versicolor\n",
      "Element n°40  -> Attributs : [5.  3.5 1.3 0.3], Label : 0, Classe : Iris-setosa\n",
      "Element n°81  -> Attributs : [5.5 2.4 3.7 1. ], Label : 1, Classe : Iris-versicolor\n",
      "Element n°119 -> Attributs : [6.  2.2 5.  1.5], Label : 2, Classe : Iris-virginica\n",
      "Element n°65  -> Attributs : [6.7 3.1 4.4 1.4], Label : 1, Classe : Iris-versicolor\n"
     ]
    }
   ],
   "source": [
    "print(f\"Classes disponibles (dans l'ordre) : {Iris.class_names}\")\n",
    "print(f\"Nom des Features (dans l'ordre) : {Iris.features_names}\")\n",
    "print()\n",
    "\n",
    "print(\"Quelques elements du dataset : \")\n",
    "\n",
    "random_indexes = np.random.choice(range(len(Iris.labels)), 5, replace=False)\n",
    "\n",
    "for i in random_indexes:\n",
    "    print(\n",
    "        f\"Element n°{i:<3} -> Attributs : {Iris.attributes[i]}, Label : {Iris.labels[i]}, Classe : {Iris.class_names[Iris.labels[i]]}\")"
   ]
  },
  {
   "cell_type": "markdown",
   "metadata": {},
   "source": [
    "Pour le dataset _EMNIST_ :"
   ]
  },
  {
   "cell_type": "code",
   "execution_count": 4,
   "metadata": {
    "ExecuteTime": {
     "start_time": "2023-04-07T02:45:18.397097Z",
     "end_time": "2023-04-07T02:45:18.612687Z"
    }
   },
   "outputs": [
    {
     "data": {
      "text/plain": "<Figure size 640x480 with 1 Axes>",
      "image/png": "[encoded data removed]"
     },
     "metadata": {},
     "output_type": "display_data"
    }
   ],
   "source": [
    "from ias.Datasets import Emnist\n",
    "\n",
    "index_img = np.random.randint(0, len(Emnist.labels))\n",
    "\n",
    "plt.imshow(Emnist.attributes[index_img].reshape(28, 28).T)\n",
    "plt.title(f\"Image d'un {Emnist.labels[index_img]}\")\n",
    "plt.show()"
   ]
  },
  {
   "cell_type": "markdown",
   "metadata": {},
   "source": [
    "## Fonction Annexe\n",
    "\n",
    "Une fonction `split_dataset` est également présente dans le module `ias`. Cette fonction permet de séparer un _Dataset_ en deux ensemble, un pour entrainer nos modèles et un pour les tester.\n",
    "\n",
    "Le paramètre permet de défini le ratio du partage :\n",
    "- si un `float` est donné en paramètre, il s'agit alors du ratio du nombre d'éléments dans l'ensemble d'entrainement sur le nombre d'éléments au total ;\n",
    "- si un `int` est donné en paramètre, il s'agit alors du nombre d'éléments dans l'ensemble d'entrainement.\n",
    "\n",
    "Pour une séparation en 60-40 du dataset _Iris_, on utilise la fonction de la manière suivante :"
   ]
  },
  {
   "cell_type": "code",
   "execution_count": 5,
   "metadata": {
    "ExecuteTime": {
     "start_time": "2023-04-07T02:45:18.614477Z",
     "end_time": "2023-04-07T02:45:18.655123Z"
    }
   },
   "outputs": [],
   "source": [
    "from ias import split_dataset\n",
    "\n",
    "iris_train_x, iris_train_y, iris_test_x, iris_test_y = split_dataset(0.6, Iris)"
   ]
  },
  {
   "cell_type": "markdown",
   "metadata": {},
   "source": [
    "## Sources\n",
    "\n",
    "Vous trouverez les datasets aux adresses suivantes :\n",
    "\n",
    "- _Iris_ : [https://archive-beta.ics.uci.edu/dataset/53/iris](https://archive-beta.ics.uci.edu/dataset/53/iris)\n",
    "- _EMNIST_ : [https://www.nist.gov/itl/products-and-services/emnist-dataset](https://www.nist.gov/itl/products-and-services/emnist-dataset)\n"
   ]
  },
  {
   "cell_type": "markdown",
   "metadata": {},
   "source": [
    "[Retour au sommaire](../README.md#table-des-matières)"
   ]
  }
 ],
 "metadata": {
  "kernelspec": {
   "display_name": "Python 3 (ipykernel)",
   "language": "python",
   "name": "python3"
  },
  "language_info": {
   "codemirror_mode": {
    "name": "ipython",
    "version": 3
   },
   "file_extension": ".py",
   "mimetype": "text/x-python",
   "name": "python",
   "nbconvert_exporter": "python",
   "pygments_lexer": "ipython3",
   "version": "3.11.2"
  }
 },
 "nbformat": 4,
 "nbformat_minor": 1
}
