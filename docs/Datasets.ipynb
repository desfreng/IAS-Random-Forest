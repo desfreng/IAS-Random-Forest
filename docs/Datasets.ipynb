{
 "cells": [
  {
   "cell_type": "markdown",
   "metadata": {
    "collapsed": false
   },
   "source": [
    "# Datasets"
   ]
  },
  {
   "cell_type": "markdown",
   "metadata": {
    "collapsed": false
   },
   "source": [
    "Nous détaillons dans cette section l'installation ainsi que la manipulation des _Datasets_ dans\n",
    "notre projet.\n",
    "\n",
    "[Retour au sommaire](../README.md#table-des-matières)"
   ]
  },
  {
   "cell_type": "code",
   "execution_count": 1,
   "outputs": [],
   "source": [
    "import os\n",
    "import sys\n",
    "\n",
    "from matplotlib import pyplot as plt\n",
    "import numpy as np\n",
    "\n",
    "if os.getcwd().endswith(\"docs\"):\n",
    "    sys.path.append(os.path.join(os.getcwd(), \"..\"))"
   ],
   "metadata": {
    "collapsed": false,
    "ExecuteTime": {
     "start_time": "2023-04-06T23:20:05.309823Z",
     "end_time": "2023-04-06T23:20:05.494573Z"
    }
   }
  },
  {
   "cell_type": "markdown",
   "metadata": {
    "collapsed": false
   },
   "source": [
    "## Datasets Utilisés\n",
    "\n",
    "Deux _Datasets_ sont utilisés dans ce projet : _Iris_ et _EMNIST_. Nous utilisons le premier pour\n",
    "vérifier le fonctionnement de nos algorithmes. Le second, lui, est utilisé afin de comparer les\n",
    "performances de nos différents algorithmes.\n",
    "\n",
    "Un script d'installation est disponible dans `datasets/install_datasets.py`. Pensez à l'exécuter\n",
    "avant toute exécution de code !"
   ]
  },
  {
   "cell_type": "markdown",
   "metadata": {
    "collapsed": false
   },
   "source": [
    "## Manipulations\n",
    "\n",
    "Une classe `Dataset` a été implémentée au sein du module `ias`. Cette classe permet de manipuler les deux datasets à la volée, sans importation ni lecture des données explicite pour l'utilisateur.\n",
    "\n",
    "Par exemple, le code suivant permet d'importer le dataset _Iris_ et de travailler avec."
   ]
  },
  {
   "cell_type": "code",
   "execution_count": 2,
   "outputs": [
    {
     "name": "stdout",
     "output_type": "stream",
     "text": [
      "Nombre de classes : 3\n"
     ]
    }
   ],
   "source": [
    "from ias.Datasets import Iris\n",
    "\n",
    "print(f\"Nombre de classes : {Iris.class_number}\")"
   ],
   "metadata": {
    "collapsed": false,
    "ExecuteTime": {
     "start_time": "2023-04-06T23:20:05.497139Z",
     "end_time": "2023-04-06T23:20:05.504244Z"
    }
   }
  },
  {
   "cell_type": "markdown",
   "source": [
    "Le nom des classes ainsi que la description des _features_ est également disponible. Celles-ci se présentent sous la forme de tableaux, dans l'ordre d'apparition pour les données.\n",
    "\n",
    "La classe codée par 0 est la première dans le tableau des noms des classes, et de même pour le nom des _features_."
   ],
   "metadata": {
    "collapsed": false
   }
  },
  {
   "cell_type": "code",
   "execution_count": 21,
   "outputs": [
    {
     "name": "stdout",
     "output_type": "stream",
     "text": [
      "Classes disponibles (dans l'ordre) : ['Iris-setosa', 'Iris-versicolor', 'Iris-virginica']\n",
      "Nom des Features (dans l'ordre) : ['sepal length in cm', 'sepal width in cm', 'petal length in cm', 'petal width in cm']\n",
      "\n",
      "Quelques elements du dataset : \n",
      "Element n°108 -> Attributs : [6.7 2.5 5.8 1.8], Label : 2, Classe : Iris-virginica\n",
      "Element n°138 -> Attributs : [6.  3.  4.8 1.8], Label : 2, Classe : Iris-virginica\n",
      "Element n°89  -> Attributs : [5.5 2.5 4.  1.3], Label : 1, Classe : Iris-versicolor\n",
      "Element n°97  -> Attributs : [6.2 2.9 4.3 1.3], Label : 1, Classe : Iris-versicolor\n",
      "Element n°44  -> Attributs : [5.1 3.8 1.9 0.4], Label : 0, Classe : Iris-setosa\n"
     ]
    }
   ],
   "source": [
    "print(f\"Classes disponibles (dans l'ordre) : {Iris.class_names}\")\n",
    "print(f\"Nom des Features (dans l'ordre) : {Iris.features_names}\")\n",
    "print()\n",
    "\n",
    "print(\"Quelques elements du dataset : \")\n",
    "\n",
    "random_indexes = np.random.choice(range(len(Iris.labels)), 5, replace=False)\n",
    "\n",
    "for i in random_indexes:\n",
    "    print(f\"Element n°{i:<3} -> Attributs : {Iris.attributes[i]}, Label : {Iris.labels[i]}, Classe : {Iris.class_names[Iris.labels[i]]}\")"
   ],
   "metadata": {
    "collapsed": false,
    "ExecuteTime": {
     "start_time": "2023-04-06T23:31:46.102529Z",
     "end_time": "2023-04-06T23:31:46.143168Z"
    }
   }
  },
  {
   "cell_type": "markdown",
   "source": [
    "Pour le dataset _EMNIST_ :"
   ],
   "metadata": {
    "collapsed": false
   }
  },
  {
   "cell_type": "code",
   "execution_count": 20,
   "outputs": [
    {
     "data": {
      "text/plain": "<Figure size 640x480 with 1 Axes>",
      "image/png": "[encoded data removed]"
     },
     "metadata": {},
     "output_type": "display_data"
    }
   ],
   "source": [
    "from ias.Datasets import Emnist\n",
    "\n",
    "index_img = np.random.randint(0, len(Emnist.labels))\n",
    "\n",
    "plt.imshow(Emnist.attributes[index_img].reshape(28, 28).T)\n",
    "plt.title(f\"Image d'un {Emnist.labels[index_img]}\")\n",
    "plt.show()"
   ],
   "metadata": {
    "collapsed": false,
    "ExecuteTime": {
     "start_time": "2023-04-06T23:31:33.694928Z",
     "end_time": "2023-04-06T23:31:33.883127Z"
    }
   }
  },
  {
   "cell_type": "markdown",
   "metadata": {
    "collapsed": false
   },
   "source": [
    "## Sources\n",
    "\n",
    "Vous trouverez les datasets aux adresses suivantes :\n",
    "\n",
    "- _Iris_ : [https://archive-beta.ics.uci.edu/dataset/53/iris](https://archive-beta.ics.uci.edu/dataset/53/iris)\n",
    "- _EMNIST_ : [https://www.nist.gov/itl/products-and-services/emnist-dataset](https://www.nist.gov/itl/products-and-services/emnist-dataset)\n"
   ]
  },
  {
   "cell_type": "markdown",
   "metadata": {
    "collapsed": false
   },
   "source": [
    "[Retour au sommaire](../README.md#table-des-matières)"
   ]
  }
 ],
 "metadata": {
  "kernelspec": {
   "display_name": "Python 3",
   "language": "python",
   "name": "python3"
  },
  "language_info": {
   "codemirror_mode": {
    "name": "ipython",
    "version": 2
   },
   "file_extension": ".py",
   "mimetype": "text/x-python",
   "name": "python",
   "nbconvert_exporter": "python",
   "pygments_lexer": "ipython2",
   "version": "2.7.6"
  }
 },
 "nbformat": 4,
 "nbformat_minor": 0
}
