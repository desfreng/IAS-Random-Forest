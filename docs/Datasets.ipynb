{
 "cells": [
  {
   "cell_type": "markdown",
   "metadata": {
    "collapsed": false
   },
   "source": [
    "# Datasets"
   ]
  },
  {
   "cell_type": "markdown",
   "metadata": {
    "collapsed": false
   },
   "source": [
    "Nous détaillons dans cette section l'installation ainsi que la manipulation des _Datasets_ dans\n",
    "notre projet.\n",
    "\n",
    "[Retour au sommaire](../README.md#table-des-matières)"
   ]
  },
  {
   "cell_type": "code",
   "execution_count": 2,
   "outputs": [],
   "source": [
    "import os\n",
    "import sys\n",
    "\n",
    "from matplotlib import pyplot as plt\n",
    "import numpy as np\n",
    "\n",
    "if os.getcwd().endswith(\"docs\"):\n",
    "    sys.path.append(os.path.join(os.getcwd(), \"..\"))"
   ],
   "metadata": {
    "collapsed": false,
    "ExecuteTime": {
     "start_time": "2023-04-06T23:55:00.257398Z",
     "end_time": "2023-04-06T23:55:00.266251Z"
    }
   }
  },
  {
   "cell_type": "markdown",
   "metadata": {
    "collapsed": false
   },
   "source": [
    "## Datasets Utilisés\n",
    "\n",
    "Deux _Datasets_ sont utilisés dans ce projet : _Iris_ et _EMNIST_. Nous utilisons le premier pour\n",
    "vérifier le fonctionnement de nos algorithmes. Le second, lui, est utilisé afin de comparer les\n",
    "performances de nos différents algorithmes.\n",
    "\n",
    "Un script d'installation est disponible dans `datasets/install_datasets.py`. Pensez à l'exécuter\n",
    "avant toute exécution de code !"
   ]
  },
  {
   "cell_type": "markdown",
   "metadata": {
    "collapsed": false
   },
   "source": [
    "## Manipulations\n",
    "\n",
    "Une classe `Dataset` a été implémentée au sein du module `ias`. Cette classe permet de manipuler les deux datasets à la volée, sans importation ni lecture des données explicite pour l'utilisateur.\n",
    "\n",
    "Par exemple, le code suivant permet d'importer le dataset _Iris_ et de travailler avec."
   ]
  },
  {
   "cell_type": "code",
   "execution_count": 3,
   "outputs": [],
   "source": [
    "from ias.Datasets import Iris\n",
    "\n",
    "print(f\"Nombre de classes : {Iris.class_number}\")"
   ],
   "metadata": {
    "collapsed": false,
    "ExecuteTime": {
     "start_time": "2023-04-06T23:55:00.261200Z",
     "end_time": "2023-04-06T23:55:00.273497Z"
    }
   }
  },
  {
   "cell_type": "markdown",
   "source": [
    "Le nom des classes ainsi que la description des _features_ est également disponible. Celles-ci se présentent sous la forme de tableaux, dans l'ordre d'apparition pour les données.\n",
    "\n",
    "La classe codée par 0 est la première dans le tableau des noms des classes, et de même pour le nom des _features_."
   ],
   "metadata": {
    "collapsed": false
   }
  },
  {
   "cell_type": "code",
   "execution_count": 4,
   "outputs": [],
   "source": [
    "print(f\"Classes disponibles (dans l'ordre) : {Iris.class_names}\")\n",
    "print(f\"Nom des Features (dans l'ordre) : {Iris.features_names}\")\n",
    "print()\n",
    "\n",
    "print(\"Quelques elements du dataset : \")\n",
    "\n",
    "random_indexes = np.random.choice(range(len(Iris.labels)), 5, replace=False)\n",
    "\n",
    "for i in random_indexes:\n",
    "    print(f\"Element n°{i:<3} -> Attributs : {Iris.attributes[i]}, Label : {Iris.labels[i]}, Classe : {Iris.class_names[Iris.labels[i]]}\")"
   ],
   "metadata": {
    "collapsed": false,
    "ExecuteTime": {
     "start_time": "2023-04-06T23:55:00.259203Z",
     "end_time": "2023-04-06T23:55:00.311577Z"
    }
   }
  },
  {
   "cell_type": "markdown",
   "source": [
    "Pour le dataset _EMNIST_ :"
   ],
   "metadata": {
    "collapsed": false
   }
  },
  {
   "cell_type": "code",
   "execution_count": 5,
   "outputs": [],
   "source": [
    "from ias.Datasets import Emnist\n",
    "\n",
    "index_img = np.random.randint(0, len(Emnist.labels))\n",
    "\n",
    "plt.imshow(Emnist.attributes[index_img].reshape(28, 28).T)\n",
    "plt.title(f\"Image d'un {Emnist.labels[index_img]}\")\n",
    "plt.show()"
   ],
   "metadata": {
    "collapsed": false,
    "ExecuteTime": {
     "start_time": "2023-04-06T23:55:00.260716Z",
     "end_time": "2023-04-06T23:55:00.486977Z"
    }
   }
  },
  {
   "cell_type": "markdown",
   "source": [
    "## Fonction Annexe\n",
    "\n",
    "Une fonction `split_dataset` est également présente dans le module `ias`. Cette fonction permet de séparer un _Dataset_ en deux ensemble, un pour entrainer nos modèles et un pour les tester.\n",
    "\n",
    "Le paramètre permet de défini le ratio du partage :\n",
    "- si un `float` est donné en paramètre, il s'agit alors du ratio du nombre d'éléments dans l'ensemble d'entrainement sur le nombre d'éléments au total;\n",
    "- si un `int` est donné en paramètre, il s'agit alors du nombre d'éléments dans l'ensemble d'entrainement.\n",
    "\n",
    "Pour une séparation en 60-40 du dataset _Iris_, on utilise la fonction de la manière suivante :"
   ],
   "metadata": {
    "collapsed": false
   }
  },
  {
   "cell_type": "code",
   "execution_count": 6,
   "outputs": [],
   "source": [
    "from ias import split_dataset\n",
    "\n",
    "iris_train_x, iris_train_y, iris_test_x, iris_test_y = split_dataset(0.6, Iris)"
   ],
   "metadata": {
    "collapsed": false,
    "ExecuteTime": {
     "start_time": "2023-04-06T23:55:00.262404Z",
     "end_time": "2023-04-06T23:55:00.527303Z"
    }
   }
  },
  {
   "cell_type": "markdown",
   "metadata": {
    "collapsed": false
   },
   "source": [
    "## Sources\n",
    "\n",
    "Vous trouverez les datasets aux adresses suivantes :\n",
    "\n",
    "- _Iris_ : [https://archive-beta.ics.uci.edu/dataset/53/iris](https://archive-beta.ics.uci.edu/dataset/53/iris)\n",
    "- _EMNIST_ : [https://www.nist.gov/itl/products-and-services/emnist-dataset](https://www.nist.gov/itl/products-and-services/emnist-dataset)\n"
   ]
  },
  {
   "cell_type": "markdown",
   "metadata": {
    "collapsed": false
   },
   "source": [
    "[Retour au sommaire](../README.md#table-des-matières)"
   ]
  }
 ],
 "metadata": {
  "kernelspec": {
   "display_name": "Python 3",
   "language": "python",
   "name": "python3"
  },
  "language_info": {
   "codemirror_mode": {
    "name": "ipython",
    "version": 2
   },
   "file_extension": ".py",
   "mimetype": "text/x-python",
   "name": "python",
   "nbconvert_exporter": "python",
   "pygments_lexer": "ipython2",
   "version": "2.7.6"
  }
 },
 "nbformat": 4,
 "nbformat_minor": 0
}
