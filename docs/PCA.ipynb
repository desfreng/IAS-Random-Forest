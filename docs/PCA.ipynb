{
 "cells": [
  {
   "cell_type": "markdown",
   "metadata": {},
   "source": [
    "# Principal Component Analysis\n",
    "Dans le cadre de notre implémentation des `DecisionTree` ainsi que des `RandomForest`, nous avons été confronté à des jeux de données conséquents. Une `PCA` est donc nécessaire.\n",
    "\n",
    "Nous détaillons l'implémentation de cette classe sur divers exemples.\n",
    "\n",
    "[Retour au sommaire](../README.md#table-des-matières)"
   ]
  },
  {
   "cell_type": "code",
   "execution_count": 17,
   "metadata": {
    "ExecuteTime": {
     "start_time": "2023-04-09T22:31:52.755771Z",
     "end_time": "2023-04-09T22:31:52.771756Z"
    }
   },
   "outputs": [],
   "source": [
    "import os\n",
    "import sys\n",
    "\n",
    "import numpy as np\n",
    "from matplotlib import pyplot as plt\n",
    "\n",
    "if os.getcwd().endswith(\"docs\"):\n",
    "    sys.path.append(os.path.join(os.getcwd(), \"..\"))\n",
    "\n",
    "from ias import PCA\n",
    "from ias.Datasets import Emnist"
   ]
  },
  {
   "cell_type": "markdown",
   "metadata": {},
   "source": [
    "## Verification de l'implémentation sur un exemple simple\n",
    "\n",
    "La fonction `two_component_data` génère ici un jeu de donnée ayant deux composantes indépendantes. On crée alors un jeu de donnée de 50 elements séparables en 2 composantes."
   ]
  },
  {
   "cell_type": "code",
   "execution_count": 18,
   "metadata": {
    "ExecuteTime": {
     "start_time": "2023-04-09T22:31:52.759114Z",
     "end_time": "2023-04-09T22:31:52.772709Z"
    }
   },
   "outputs": [],
   "source": [
    "def two_component_data(element_number):\n",
    "    elm_range = np.arange(element_number)\n",
    "    return np.array(\n",
    "        (elm_range ** 2, elm_range + 1, elm_range + 2, elm_range + 3, elm_range ** 2 + 4)).T\n",
    "\n",
    "\n",
    "n_elm = 50\n",
    "data_set = two_component_data(n_elm)"
   ]
  },
  {
   "cell_type": "markdown",
   "metadata": {},
   "source": [
    "On compresse puis décompresse le jeu de données avec deux PCA projetant 2 et 1 composantes respectivement afin de vérifier le bon fonctionnement de notre implémentation."
   ]
  },
  {
   "cell_type": "code",
   "execution_count": 19,
   "metadata": {
    "ExecuteTime": {
     "start_time": "2023-04-09T22:31:52.810682Z",
     "end_time": "2023-04-09T22:31:52.810929Z"
    }
   },
   "outputs": [],
   "source": [
    "pca_1_comp = PCA(n_composantes=1)\n",
    "pca_2_comp = PCA(n_composantes=2)\n",
    "\n",
    "pca_1_comp.fit(data_set)\n",
    "pca_2_comp.fit(data_set)\n",
    "\n",
    "decompressed_1_comp = pca_1_comp.decompress(pca_1_comp.compress(data_set))\n",
    "decompressed_2_comp = pca_2_comp.decompress(pca_2_comp.compress(data_set))"
   ]
  },
  {
   "cell_type": "code",
   "execution_count": 20,
   "metadata": {
    "ExecuteTime": {
     "start_time": "2023-04-09T22:31:52.810732Z",
     "end_time": "2023-04-09T22:31:52.811144Z"
    }
   },
   "outputs": [
    {
     "name": "stdout",
     "output_type": "stream",
     "text": [
      "Données d'origine : \n",
      "[[0 1 2 3 4]\n",
      " [1 2 3 4 5]\n",
      " [4 3 4 5 8]]\n",
      "Données décompressée par la PCA sur 1 composante  : \n",
      "[[-0.259 10.064 11.064 12.064  3.741]\n",
      " [ 0.769 10.083 11.083 12.083  4.769]\n",
      " [ 3.796 10.141 11.141 12.141  7.796]]\n",
      "Données décompressée par la PCA sur 2 composantes : \n",
      "[[-0.  1.  2.  3.  4.]\n",
      " [ 1.  2.  3.  4.  5.]\n",
      " [ 4.  3.  4.  5.  8.]]\n"
     ]
    }
   ],
   "source": [
    "print(\"Données d'origine : \")\n",
    "print(data_set[:3])\n",
    "print(\"Données décompressée par la PCA sur 1 composante  : \")\n",
    "print(decompressed_1_comp[:3].round(3))\n",
    "print(\"Données décompressée par la PCA sur 2 composantes : \")\n",
    "print(decompressed_2_comp[:3].round(3))"
   ]
  },
  {
   "cell_type": "markdown",
   "metadata": {},
   "source": [
    "On remarque que les données décompressée par la PCA ayant 2 composantes sont identiques aux données d'origine. Ce qui n'est pas le cas pour la PCA sur 1 composante. En effet, on a les erreurs suivantes :"
   ]
  },
  {
   "cell_type": "code",
   "execution_count": 21,
   "metadata": {
    "ExecuteTime": {
     "start_time": "2023-04-09T22:31:52.810757Z",
     "end_time": "2023-04-09T22:31:52.811213Z"
    }
   },
   "outputs": [
    {
     "name": "stdout",
     "output_type": "stream",
     "text": [
      "Erreur avec 1 composante  :  2023.48\n",
      "Erreur avec 2 composantes :  0.0\n"
     ]
    }
   ],
   "source": [
    "print(\"Erreur avec 1 composante  : \", np.sum((data_set - decompressed_1_comp) ** 2).round(3))\n",
    "print(\"Erreur avec 2 composantes : \", np.sum((data_set - decompressed_2_comp) ** 2).round(3))"
   ]
  },
  {
   "cell_type": "markdown",
   "metadata": {},
   "source": [
    "## PCA sur EMNIST\n",
    "On réalise ici deux PCA, chacune sur les mêmes 1000 elements pris au hasard dans le dataset EMNIST. Une PCA conservera 80% de la variance des données, l'autre 95%."
   ]
  },
  {
   "cell_type": "code",
   "execution_count": 22,
   "metadata": {
    "ExecuteTime": {
     "start_time": "2023-04-09T22:31:52.810777Z",
     "end_time": "2023-04-09T22:31:53.551729Z"
    }
   },
   "outputs": [],
   "source": [
    "selected_index = np.random.choice(range(len(Emnist.attributes)), 1000, replace=False)\n",
    "emnist_data_set = Emnist.attributes[selected_index]\n",
    "emnist_label_set = Emnist.labels[selected_index]\n",
    "\n",
    "pca_80 = PCA(n_composantes=0.8)\n",
    "pca_95 = PCA(n_composantes=0.95)\n",
    "\n",
    "pca_80.fit(emnist_data_set)\n",
    "pca_95.fit(emnist_data_set)\n",
    "\n",
    "compressed_80 = pca_80.compress(emnist_data_set)\n",
    "compressed_95 = pca_95.compress(emnist_data_set)\n",
    "\n",
    "decompressed_80 = pca_80.decompress(compressed_80)\n",
    "decompressed_95 = pca_95.decompress(compressed_95)"
   ]
  },
  {
   "cell_type": "markdown",
   "metadata": {},
   "source": [
    "On observe bien une réduction de la dimension de nos objets :"
   ]
  },
  {
   "cell_type": "code",
   "execution_count": 23,
   "metadata": {
    "ExecuteTime": {
     "start_time": "2023-04-09T22:31:53.554415Z",
     "end_time": "2023-04-09T22:31:53.702525Z"
    }
   },
   "outputs": [
    {
     "name": "stdout",
     "output_type": "stream",
     "text": [
      "Dimension d'origine      : 784\n",
      "Dimension sortie PCA 80% : 33\n",
      "Dimension sortie PCA 95% : 92\n"
     ]
    }
   ],
   "source": [
    "print(f\"Dimension d'origine      : {len(Emnist.attributes[0])}\")\n",
    "print(f\"Dimension sortie PCA 80% : {pca_80.output_dimension}\")\n",
    "print(f\"Dimension sortie PCA 95% : {pca_95.output_dimension}\")"
   ]
  },
  {
   "cell_type": "markdown",
   "metadata": {},
   "source": [
    "La variance des données est également bien conservée comme nous le montre les figures suivantes."
   ]
  },
  {
   "cell_type": "code",
   "execution_count": 24,
   "metadata": {
    "ExecuteTime": {
     "start_time": "2023-04-09T22:31:53.723178Z",
     "end_time": "2023-04-09T22:31:53.934984Z"
    }
   },
   "outputs": [
    {
     "data": {
      "text/plain": "<Figure size 640x480 with 3 Axes>",
      "image/png": "[encoded data removed]"
     },
     "metadata": {},
     "output_type": "display_data"
    },
    {
     "name": "stdout",
     "output_type": "stream",
     "text": [
      "Représentations d'un 3\n"
     ]
    }
   ],
   "source": [
    "index_img = 10\n",
    "fig, ax = plt.subplots(1, 3, constrained_layout=True)\n",
    "\n",
    "original_img = emnist_data_set[index_img].reshape(28, 28).T\n",
    "compressed_80 = decompressed_80[index_img].reshape(28, 28).T\n",
    "compressed_95 = decompressed_95[index_img].reshape(28, 28).T\n",
    "\n",
    "ax[0].imshow(original_img)\n",
    "ax[0].set_title(\"Image d'origine\")\n",
    "ax[1].imshow(compressed_80)\n",
    "ax[1].set_title(\"PCA 80%\")\n",
    "ax[2].imshow(compressed_95)\n",
    "ax[2].set_title(\"PCA 95%\")\n",
    "plt.show()\n",
    "print(f\"Représentations d'un {Emnist.class_names[emnist_label_set[index_img]]}\")"
   ]
  },
  {
   "cell_type": "markdown",
   "metadata": {},
   "source": [
    "[Retour au sommaire](../README.md#table-des-matières)"
   ]
  }
 ],
 "metadata": {
  "kernelspec": {
   "display_name": "Python 3 (ipykernel)",
   "language": "python",
   "name": "python3"
  },
  "language_info": {
   "codemirror_mode": {
    "name": "ipython",
    "version": 3
   },
   "file_extension": ".py",
   "mimetype": "text/x-python",
   "name": "python",
   "nbconvert_exporter": "python",
   "pygments_lexer": "ipython3",
   "version": "3.11.2"
  }
 },
 "nbformat": 4,
 "nbformat_minor": 1
}
